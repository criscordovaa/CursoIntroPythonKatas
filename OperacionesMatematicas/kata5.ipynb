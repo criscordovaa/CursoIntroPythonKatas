{
 "cells": [
  {
   "cell_type": "markdown",
   "metadata": {},
   "source": [
    "### Operaciones Matemáticas"
   ]
  },
  {
   "cell_type": "code",
   "execution_count": 1,
   "metadata": {},
   "outputs": [
    {
     "name": "stdout",
     "output_type": "stream",
     "text": [
      "La distancia entre la Tierra y Jupiter es de 628949330 kilometros, en millas es 390577534\n"
     ]
    }
   ],
   "source": [
    "planeta_tierra = 149597870\n",
    "planeta_jupiter = 778547200\n",
    "\n",
    "distancia = planeta_jupiter - planeta_tierra\n",
    "\n",
    "print(f\"La distancia entre la Tierra y Jupiter es de {distancia} kilometros, en millas es {round(distancia*0.621)}\")"
   ]
  },
  {
   "cell_type": "code",
   "execution_count": 2,
   "metadata": {},
   "outputs": [],
   "source": [
    "distancia_venus = input(\"Introduce la distancia del sol del planeta Venus\")\n",
    "distancia_urano = input(\"Introduce la distancia del sol del planeta Urano\")"
   ]
  },
  {
   "cell_type": "code",
   "execution_count": 3,
   "metadata": {},
   "outputs": [],
   "source": [
    "distancia_venus = int(distancia_venus)\n",
    "distancia_urano = int(distancia_urano)"
   ]
  },
  {
   "cell_type": "code",
   "execution_count": 4,
   "metadata": {},
   "outputs": [
    {
     "name": "stdout",
     "output_type": "stream",
     "text": [
      "El valor es de  1km\n",
      "La valor en millas es de 1\n"
     ]
    }
   ],
   "source": [
    "distancia_abs = distancia_urano - distancia_venus\n",
    "\n",
    "print(f\"El valor es de  {distancia_abs}km\")\n",
    "\n",
    "distancia_millas = distancia_abs * 0.621\n",
    "\n",
    "print(f\"La valor en millas es de {round(distancia_millas)}\")"
   ]
  }
 ],
 "metadata": {
  "interpreter": {
   "hash": "31f2aee4e71d21fbe5cf8b01ff0e069b9275f58929596ceb00d14d90e3e16cd6"
  },
  "kernelspec": {
   "display_name": "Python 3.8.10 64-bit",
   "language": "python",
   "name": "python3"
  },
  "language_info": {
   "codemirror_mode": {
    "name": "ipython",
    "version": 3
   },
   "file_extension": ".py",
   "mimetype": "text/x-python",
   "name": "python",
   "nbconvert_exporter": "python",
   "pygments_lexer": "ipython3",
   "version": "3.8.10"
  },
  "orig_nbformat": 4
 },
 "nbformat": 4,
 "nbformat_minor": 2
}
