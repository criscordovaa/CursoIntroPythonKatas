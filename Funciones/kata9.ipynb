{
 "cells": [
  {
   "cell_type": "markdown",
   "metadata": {},
   "source": [
    "### Ejercicio 1"
   ]
  },
  {
   "cell_type": "code",
   "execution_count": 4,
   "metadata": {},
   "outputs": [
    {
     "name": "stdout",
     "output_type": "stream",
     "text": [
      "\n",
      "    El promedio de combustible es 7.0%\n",
      "    El tanque 1 tiene 10%\n",
      "    El tanque 2 tiene 5%\n",
      "    El tanque 3 tiene 6%\n",
      "    \n"
     ]
    }
   ],
   "source": [
    "def promedioCombustible(sum_litros, total_tanques):\n",
    "    return sum_litros / total_tanques\n",
    "def informe_combustible(t1, t2, t3):\n",
    "    promedio = promedioCombustible(t1 + t2 + t3,3)\n",
    "    print(\"\"\"\n",
    "    El promedio de combustible es {}%\n",
    "    El tanque 1 tiene {}%\n",
    "    El tanque 2 tiene {}%\n",
    "    El tanque 3 tiene {}%\n",
    "    \"\"\".format(promedio, t1, t2, t3))\n",
    "\n",
    "informe_combustible(10, 5, 6)"
   ]
  },
  {
   "cell_type": "markdown",
   "metadata": {},
   "source": [
    "### Ejercicio 2"
   ]
  },
  {
   "cell_type": "code",
   "execution_count": 12,
   "metadata": {},
   "outputs": [
    {
     "name": "stdout",
     "output_type": "stream",
     "text": [
      "\n",
      "    Destino mission: Jupiter\n",
      "    Tiempo estimado: 71 minutos\n",
      "    Total combustible: 430 Lts.\n",
      "    \n",
      "\n",
      "    Destino mission: Venus\n",
      "    Tiempo estimado: 90 minutos\n",
      "    Total combustible: 620 Lts.\n",
      "    \n",
      "\n",
      "    Destino mission: Saturno\n",
      "    Tiempo estimado: 65 minutos\n",
      "    Total combustible: 310 Lts.\n",
      "\n",
      "    Niveles detallados del tanque:\n",
      "*Tanque primary contiene 220\n",
      "*Tanque secondary contiene 90\n"
     ]
    }
   ],
   "source": [
    "def informe_cohete(hora_lanzamiento, tiempo_vuelo, destino, tanque_externo,tanque_interno):\n",
    "    return f\"\"\"\n",
    "    Destino mission: {destino}\n",
    "    Tiempo estimado: {hora_lanzamiento + tiempo_vuelo} minutos\n",
    "    Total combustible: {tanque_externo + tanque_interno} Lts.\n",
    "    \"\"\"\n",
    "\n",
    "print(informe_cohete(31, 40, 'Jupiter', 250, 180))\n",
    "\n",
    "def nuevo_informe(destino, *minutos, **reservas_gas):\n",
    "    return f\"\"\"\n",
    "    Destino mission: {destino}\n",
    "    Tiempo estimado: {sum(minutos)} minutos\n",
    "    Total combustible: {sum(reservas_gas.values())} Lts.\n",
    "    \"\"\"\n",
    "print(nuevo_informe('Venus', 30, 60, primary=400, secondary=220))\n",
    "\n",
    "def informe_detallado(destino, *minutos, **reservas_gas):\n",
    "    reporte = f\"\"\"\n",
    "    Destino mission: {destino}\n",
    "    Tiempo estimado: {sum(minutos)} minutos\n",
    "    Total combustible: {sum(reservas_gas.values())} Lts.\n",
    "\n",
    "    Niveles detallados del tanque:\"\"\"\n",
    "    for tanque, galones in reservas_gas.items():\n",
    "        reporte += f\"\"\"\\n*Tanque {tanque} contiene {galones} lts.\"\"\"\n",
    "    return reporte\n",
    "\n",
    "print(informe_detallado('Saturno', 20, 45, primary=220, secondary=90))"
   ]
  }
 ],
 "metadata": {
  "interpreter": {
   "hash": "31f2aee4e71d21fbe5cf8b01ff0e069b9275f58929596ceb00d14d90e3e16cd6"
  },
  "kernelspec": {
   "display_name": "Python 3.8.10 64-bit",
   "language": "python",
   "name": "python3"
  },
  "language_info": {
   "codemirror_mode": {
    "name": "ipython",
    "version": 3
   },
   "file_extension": ".py",
   "mimetype": "text/x-python",
   "name": "python",
   "nbconvert_exporter": "python",
   "pygments_lexer": "ipython3",
   "version": "3.8.10"
  },
  "orig_nbformat": 4
 },
 "nbformat": 4,
 "nbformat_minor": 2
}
