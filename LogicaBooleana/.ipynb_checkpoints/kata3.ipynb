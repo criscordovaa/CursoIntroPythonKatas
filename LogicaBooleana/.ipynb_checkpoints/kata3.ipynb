{
 "cells": [
  {
   "cell_type": "markdown",
   "metadata": {},
   "source": [
    "# Modulo 3 - Usar Logica Booleana"
   ]
  },
  {
   "cell_type": "code",
   "execution_count": 3,
   "metadata": {},
   "outputs": [
    {
     "name": "stdout",
     "output_type": "stream",
     "text": [
      "Todo en orden, pudes seguir con tu dia\n"
     ]
    }
   ],
   "source": [
    "asteroid = 15\n",
    "if asteroid > 25:\n",
    "    print(\"¡Cuidado! ¡Un asteroide se acerca a una peligrosa velocidad!\")\n",
    "else: \n",
    "    print(\"Todo en orden, pudes seguir con tu dia\")"
   ]
  },
  {
   "cell_type": "code",
   "execution_count": 2,
   "metadata": {},
   "outputs": [
    {
     "name": "stdout",
     "output_type": "stream",
     "text": [
      "¡Nada que ver!\n"
     ]
    }
   ],
   "source": [
    "asteroid = 19\n",
    "\n",
    "if asteroid > 20:\n",
    " print(\"¡Mira! ¡Hay una luz magica en el cielo!\")\n",
    "elif asteroid == 20:\n",
    " print(\"¡Mira! ¡Hay una luz magica en el cielo!\")\n",
    "else:\n",
    "    print(\"¡Nada que ver!\")\n"
   ]
  },
  {
   "cell_type": "code",
   "execution_count": 1,
   "metadata": {},
   "outputs": [
    {
     "name": "stdout",
     "output_type": "stream",
     "text": [
      "¡Mira, hay una luz magica en el cielo!\n"
     ]
    }
   ],
   "source": [
    "asteroide = 25\n",
    "dimension = 40\n",
    "\n",
    "if asteroide > 25 and dimension > 25:\n",
    "    print(\"¡Cuiado, un asteroide peligroso se acerca al planeta tierra!\")\n",
    "elif asteroide >= 20:\n",
    "    print(\"¡Mira, hay una luz magica en el cielo!\")\n",
    "elif dimension < 25:\n",
    "    print(\"Todo en orden, sigan con su dia!\")\n",
    "else: \n",
    "    print(\"Todo en orden, sigan con su dia!\")"
   ]
  }
 ],
 "metadata": {
  "interpreter": {
   "hash": "31f2aee4e71d21fbe5cf8b01ff0e069b9275f58929596ceb00d14d90e3e16cd6"
  },
  "kernelspec": {
   "display_name": "Python 3.8.10 64-bit",
   "language": "python",
   "name": "python3"
  },
  "language_info": {
   "codemirror_mode": {
    "name": "ipython",
    "version": 3
   },
   "file_extension": ".py",
   "mimetype": "text/x-python",
   "name": "python",
   "nbconvert_exporter": "python",
   "pygments_lexer": "ipython3",
   "version": "3.8.10"
  },
  "orig_nbformat": 4
 },
 "nbformat": 4,
 "nbformat_minor": 2
}
