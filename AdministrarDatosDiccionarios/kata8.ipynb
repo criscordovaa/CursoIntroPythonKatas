{
 "cells": [
  {
   "cell_type": "markdown",
   "metadata": {},
   "source": [
    "### Ejercicio 1"
   ]
  },
  {
   "cell_type": "code",
   "execution_count": 34,
   "metadata": {},
   "outputs": [
    {
     "name": "stdout",
     "output_type": "stream",
     "text": [
      "El planeta Mars tiene 2 lunas\n",
      "El planeta Mars tiene como circunferencia polar 6752\n"
     ]
    }
   ],
   "source": [
    "planet = {\n",
    "    \"name\": \"Mars\",\n",
    "    \"moons\": 2\n",
    "}\n",
    "\n",
    "print(\"El planeta {0} tiene {1} lunas\".format(planet.get(\"name\"), planet.get(\"moons\")))\n",
    "\n",
    "planet[\"circunferencia\"] = {\n",
    "    \"polar\": 6752,\n",
    "    \"equatorial\": 6792\n",
    "}\n",
    "\n",
    "print('El planeta {name} tiene como circunferencia polar {polar}'.format(name = planet[\"name\"], polar = planet[\"circunferencia\"][\"polar\"]))\n",
    "\n",
    "\n",
    "\n"
   ]
  },
  {
   "cell_type": "markdown",
   "metadata": {},
   "source": [
    "### Ejercicio 2"
   ]
  },
  {
   "cell_type": "code",
   "execution_count": 33,
   "metadata": {},
   "outputs": [
    {
     "name": "stdout",
     "output_type": "stream",
     "text": [
      "El sistema solar tiene un total de 214 lunas.\n",
      "El promedio de lunas es de 17.833333333333332.\n"
     ]
    }
   ],
   "source": [
    "planet_moons = {\n",
    "    'mercury': 0,\n",
    "    'venus': 0,\n",
    "    'earth': 1,\n",
    "    'mars': 2,\n",
    "    'jupiter': 79,\n",
    "    'saturn': 82,\n",
    "    'uranus': 27,\n",
    "    'neptune': 14,\n",
    "    'pluto': 5,\n",
    "    'haumea': 2,\n",
    "    'makemake': 1,\n",
    "    'eris': 1\n",
    "}\n",
    "\n",
    "count_moons = 0\n",
    "for moon in planet_moons.values():\n",
    "    count_moons += moon;\n",
    "print(f\"El sistema solar tiene un total de {count_moons} lunas.\")\n",
    "print(f\"El promedio de lunas es de {count_moons/len(planet_moons.keys())}.\")"
   ]
  }
 ],
 "metadata": {
  "interpreter": {
   "hash": "31f2aee4e71d21fbe5cf8b01ff0e069b9275f58929596ceb00d14d90e3e16cd6"
  },
  "kernelspec": {
   "display_name": "Python 3.8.10 64-bit",
   "language": "python",
   "name": "python3"
  },
  "language_info": {
   "codemirror_mode": {
    "name": "ipython",
    "version": 3
   },
   "file_extension": ".py",
   "mimetype": "text/x-python",
   "name": "python",
   "nbconvert_exporter": "python",
   "pygments_lexer": "ipython3",
   "version": "3.8.10"
  },
  "orig_nbformat": 4
 },
 "nbformat": 4,
 "nbformat_minor": 2
}
