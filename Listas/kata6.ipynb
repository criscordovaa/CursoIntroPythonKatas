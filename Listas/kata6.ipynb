{
 "cells": [
  {
   "cell_type": "code",
   "execution_count": 16,
   "metadata": {},
   "outputs": [
    {
     "name": "stdout",
     "output_type": "stream",
     "text": [
      "El ultimo planeta es Pluton\n",
      "Los planetas mas cercanos del sol antes de Marte, son:\n",
      "1.- Mercurio\n",
      "2.- Venus\n",
      "3.- Tierra\n",
      "Los planetas mas alejados del sol despues de Marte, son:\n",
      "1.- Jupiter\n",
      "2.- Saturno\n",
      "3.- Urano\n",
      "4.- Neptuno\n",
      "5.- Pluton\n"
     ]
    }
   ],
   "source": [
    "planets = [\"Mercurio\", \"Venus\", \"Tierra\", \"Marte\", \"Jupiter\", \"Saturno\", \"Urano\", \"Neptuno\"]\n",
    "planets.append(\"Pluton\")\n",
    "print(\"El ultimo planeta es\",planets[-1])\n",
    "\n",
    "user_planet = input(\"Introduce el nombre de un planeta\")\n",
    "\n",
    "index = planets.index(user_planet)\n",
    "planets_nearby_sun = planets[0:index]\n",
    "planets_away_sun = planets[index+1:]\n",
    "\n",
    "i = 1\n",
    "print(f\"Los planetas mas cercanos del sol antes de {user_planet} son:\")\n",
    "for nearby in planets_nearby_sun:\n",
    "    print(f\"{i}.- {nearby}\")\n",
    "    i+=1\n",
    "\n",
    "i = 1\n",
    "print(f\"Los planetas mas alejados del sol despues de {user_planet} son:\")\n",
    "for away in planets_away_sun:\n",
    "    print(f\"{i}.- {away}\")\n",
    "    i+=1"
   ]
  }
 ],
 "metadata": {
  "interpreter": {
   "hash": "31f2aee4e71d21fbe5cf8b01ff0e069b9275f58929596ceb00d14d90e3e16cd6"
  },
  "kernelspec": {
   "display_name": "Python 3.8.10 64-bit",
   "language": "python",
   "name": "python3"
  },
  "language_info": {
   "codemirror_mode": {
    "name": "ipython",
    "version": 3
   },
   "file_extension": ".py",
   "mimetype": "text/x-python",
   "name": "python",
   "nbconvert_exporter": "python",
   "pygments_lexer": "ipython3",
   "version": "3.8.10"
  },
  "orig_nbformat": 4
 },
 "nbformat": 4,
 "nbformat_minor": 2
}
